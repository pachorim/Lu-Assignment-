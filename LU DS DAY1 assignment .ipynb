{
 "cells": [
  {
   "cell_type": "code",
   "execution_count": 1,
   "metadata": {},
   "outputs": [
    {
     "name": "stdout",
     "output_type": "stream",
     "text": [
      "LETS UPGRADE\n"
     ]
    }
   ],
   "source": [
    "print(\"LETS UPGRADE\")"
   ]
  },
  {
   "cell_type": "code",
   "execution_count": 6,
   "metadata": {},
   "outputs": [
    {
     "name": "stdout",
     "output_type": "stream",
     "text": [
      "Enter Cost Prize = 55\n",
      "Enter Selling Prize = 55\n",
      "You have nither profit nor loss\n"
     ]
    }
   ],
   "source": [
    "cp = int(input(\"Enter Cost Prize = \"))\n",
    "sp = int(input(\"Enter Selling Prize = \"))\n",
    "if sp>cp:\n",
    "    print(\"You are in Profit\")\n",
    "elif cp>sp:\n",
    "    print(\"You are in loss\")\n",
    "else:\n",
    "    print(\"You have nither profit nor loss\")"
   ]
  },
  {
   "cell_type": "code",
   "execution_count": 11,
   "metadata": {},
   "outputs": [
    {
     "name": "stdout",
     "output_type": "stream",
     "text": [
      "Enter Ammount in Euro = 1\n",
      "Value in INR =  80\n"
     ]
    }
   ],
   "source": [
    "euro = int(input(\"Enter Ammount in Euro = \"))\n",
    "inr = euro*80\n",
    "print(\"Value in INR = \",inr)"
   ]
  },
  {
   "cell_type": "code",
   "execution_count": null,
   "metadata": {},
   "outputs": [],
   "source": []
  }
 ],
 "metadata": {
  "kernelspec": {
   "display_name": "Python 3",
   "language": "python",
   "name": "python3"
  },
  "language_info": {
   "codemirror_mode": {
    "name": "ipython",
    "version": 3
   },
   "file_extension": ".py",
   "mimetype": "text/x-python",
   "name": "python",
   "nbconvert_exporter": "python",
   "pygments_lexer": "ipython3",
   "version": "3.7.6"
  }
 },
 "nbformat": 4,
 "nbformat_minor": 4
}
